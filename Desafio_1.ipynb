{
  "nbformat": 4,
  "nbformat_minor": 0,
  "metadata": {
    "colab": {
      "provenance": []
    },
    "kernelspec": {
      "name": "python3",
      "display_name": "Python 3"
    },
    "language_info": {
      "name": "python"
    }
  },
  "cells": [
    {
      "cell_type": "code",
      "source": [
        "print('Escuela de Datos de Alura')"
      ],
      "metadata": {
        "colab": {
          "base_uri": "https://localhost:8080/"
        },
        "id": "kzdndEaQJSuC",
        "outputId": "0020454d-c184-4bb3-c2bf-18e3db6b5e71"
      },
      "execution_count": null,
      "outputs": [
        {
          "output_type": "stream",
          "name": "stdout",
          "text": [
            "Escuela de Datos de Alura\n"
          ]
        }
      ]
    },
    {
      "cell_type": "code",
      "source": [
        "print('Nombre: <tu nombre>')\n",
        "print('Apellido: <tu apellido>')\n",
        "print('Siguiendo la misma lógica del ejercicio anterior, podemos separar líneas utilizando varias impresiones (print):')"
      ],
      "metadata": {
        "colab": {
          "base_uri": "https://localhost:8080/"
        },
        "id": "i5HzGvZJJZcR",
        "outputId": "519e512c-b512-4ac4-df6b-1a96d1f3c50f"
      },
      "execution_count": null,
      "outputs": [
        {
          "output_type": "stream",
          "name": "stdout",
          "text": [
            "Nombre: <tu nombre>\n",
            "Apellido: <tu apellido>\n",
            "Siguiendo la misma lógica del ejercicio anterior, podemos separar líneas utilizando varias impresiones (print):\n"
          ]
        }
      ]
    },
    {
      "cell_type": "code",
      "source": [
        "print('Á')\n",
        "print('L')\n",
        "print('V')\n",
        "print('A')\n",
        "print('R')\n",
        "print('O')"
      ],
      "metadata": {
        "colab": {
          "base_uri": "https://localhost:8080/"
        },
        "id": "We0qjy6nJiix",
        "outputId": "95a6a232-d971-4594-8999-9c455287a48e"
      },
      "execution_count": null,
      "outputs": [
        {
          "output_type": "stream",
          "name": "stdout",
          "text": [
            "Á\n",
            "L\n",
            "V\n",
            "A\n",
            "R\n",
            "O\n"
          ]
        }
      ]
    },
    {
      "cell_type": "code",
      "source": [
        "print(28, 'febrero', 2003)"
      ],
      "metadata": {
        "colab": {
          "base_uri": "https://localhost:8080/"
        },
        "id": "sjzBEjMzJqkI",
        "outputId": "606726d5-9f13-4d7f-a1ab-eb467eb8fb5a"
      },
      "execution_count": null,
      "outputs": [
        {
          "output_type": "stream",
          "name": "stdout",
          "text": [
            "28 febrero 2003\n"
          ]
        }
      ]
    },
    {
      "cell_type": "code",
      "source": [
        "print('Año actual: ', 2023)"
      ],
      "metadata": {
        "colab": {
          "base_uri": "https://localhost:8080/"
        },
        "id": "C25m531DJsLN",
        "outputId": "663675aa-ce66-4815-e48e-d0e2b88c741d"
      },
      "execution_count": null,
      "outputs": [
        {
          "output_type": "stream",
          "name": "stdout",
          "text": [
            "Año actual:  2023\n"
          ]
        }
      ]
    }
  ]
}