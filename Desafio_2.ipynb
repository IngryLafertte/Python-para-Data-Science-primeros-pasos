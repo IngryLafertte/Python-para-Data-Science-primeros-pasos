{
  "nbformat": 4,
  "nbformat_minor": 0,
  "metadata": {
    "colab": {
      "provenance": [],
      "cell_execution_strategy": "setup",
      "authorship_tag": "ABX9TyN9k3Cer6nrud1LHcZzvNZS",
      "include_colab_link": true
    },
    "kernelspec": {
      "name": "python3",
      "display_name": "Python 3"
    },
    "language_info": {
      "name": "python"
    }
  },
  "cells": [
    {
      "cell_type": "markdown",
      "metadata": {
        "id": "view-in-github",
        "colab_type": "text"
      },
      "source": [
        "<a href=\"https://colab.research.google.com/github/IngryLafertte/Python-para-Data-Science-primeros-pasos/blob/main/Desafio_2.ipynb\" target=\"_parent\"><img src=\"https://colab.research.google.com/assets/colab-badge.svg\" alt=\"Open In Colab\"/></a>"
      ]
    },
    {
      "cell_type": "code",
      "execution_count": 1,
      "metadata": {
        "id": "dHI8doNnT11z",
        "colab": {
          "base_uri": "https://localhost:8080/"
        },
        "outputId": "cd8dbf1f-d190-4df0-e967-e50c9c1d1eb6"
      },
      "outputs": [
        {
          "output_type": "stream",
          "name": "stdout",
          "text": [
            "Escribe tu nombre: Ingry\n",
            "Hola, Ingry\n"
          ]
        }
      ],
      "source": [
        "#RECOPILACION Y MUESTRA DE DATOS\n",
        "#Crea un programa que solicite al usuario que escriba su nombre y luego imprima \"Hola, [nombre].\"\n",
        "nombre = input(\"Escribe tu nombre: \")\n",
        "print(\"Hola,\", nombre)"
      ]
    },
    {
      "cell_type": "code",
      "source": [
        "#Crea un programa que solicite al usuario que escriba su nombre y edad, y luego imprima \"Hola, [nombre], tienes [edad] años.\"\n",
        "nombre = input(\"Escribe tu nombre: \")\n",
        "edad = input(\"Escribe tu edad: \")\n",
        "print(\"Hola,\", nombre + \", tienes\", edad + \" años.\")"
      ],
      "metadata": {
        "id": "SQWuQMmuGdIW",
        "colab": {
          "base_uri": "https://localhost:8080/"
        },
        "outputId": "5bcbdb23-2209-4302-ed56-40a0ea68b1c8"
      },
      "execution_count": 3,
      "outputs": [
        {
          "output_type": "stream",
          "name": "stdout",
          "text": [
            "Escribe tu nombre: Andrea\n",
            "Escribe tu edad: 25\n",
            "Hola, Andrea, tienes 25 años.\n"
          ]
        }
      ]
    },
    {
      "cell_type": "code",
      "source": [
        "#Crea un programa que solicite al usuario que escriba su nombre, edad y altura en metros, y luego imprima \"Hola, [nombre], tienes [edad] años y mides [altura] metros.\"\n",
        "nombre = input(\"Escribe tu nombre: \")\n",
        "edad = input(\"Escribe tu edad: \")\n",
        "altura = input(\"Escribe tu altura en metros: \")\n",
        "print(\"Hola,\", nombre + \", tienes\", edad + \" años y mides\", altura + \" metros.\")\n"
      ],
      "metadata": {
        "id": "MvmNR_j0GyiG",
        "colab": {
          "base_uri": "https://localhost:8080/"
        },
        "outputId": "dd875e49-ee97-4abd-9570-428465fb3928"
      },
      "execution_count": 2,
      "outputs": [
        {
          "output_type": "stream",
          "name": "stdout",
          "text": [
            "Escribe tu nombre: Andrea\n",
            "Escribe tu edad: 25\n",
            "Escribe tu altura en metros: 1.50\n",
            "Hola, Andrea, tienes 25 años y mides 1.50 metros.\n"
          ]
        }
      ]
    },
    {
      "cell_type": "code",
      "source": [
        "#CALCULADORA CON OPERADORES\n",
        "# Crea un programa que solicite dos valores numéricos al usuario y luego imprima la suma de ambos valores.\n",
        "valor1 = int(input(\"Escribe un valor: \"))\n",
        "valor2 = int(input(\"Escribe otro valor: \"))\n",
        "print(\"La suma de ambos valores es:\", valor1 + valor2)"
      ],
      "metadata": {
        "id": "-92pTE83HPdo",
        "colab": {
          "base_uri": "https://localhost:8080/"
        },
        "outputId": "69a49d32-30f3-4425-d5a8-56e079682dad"
      },
      "execution_count": 4,
      "outputs": [
        {
          "output_type": "stream",
          "name": "stdout",
          "text": [
            "Escribe un valor: 5\n",
            "Escribe otro valor: 3\n",
            "La suma de ambos valores es: 8\n"
          ]
        }
      ]
    },
    {
      "cell_type": "code",
      "source": [
        "# Crea un programa que solicite tres valores numéricos al usuario y luego imprima la suma de los tres valores.\n",
        "valor1 = int(input(\"Escribe un valor: \"))\n",
        "valor2 = int(input(\"Escribe otro valor: \"))\n",
        "valor3 = int(input(\"Escribe otro valor: \"))\n",
        "print(\"La suma de los tres valores es:\", valor1 + valor2 + valor3)"
      ],
      "metadata": {
        "id": "5A-E31p5He_o",
        "colab": {
          "base_uri": "https://localhost:8080/"
        },
        "outputId": "0956ab75-fec7-442e-d071-282118100c60"
      },
      "execution_count": 5,
      "outputs": [
        {
          "output_type": "stream",
          "name": "stdout",
          "text": [
            "Escribe un valor: 54\n",
            "Escribe otro valor: 4\n",
            "Escribe otro valor: 4\n",
            "La suma de los tres valores es: 62\n"
          ]
        }
      ]
    },
    {
      "cell_type": "code",
      "source": [
        "# Crea un programa que solicite dos valores numéricos al usuario y luego imprima la resta del primero menos el segundo valor.\n",
        "valor1 = int(input(\"Escribe un valor: \"))\n",
        "valor2 = int(input(\"Escribe otro valor: \"))\n",
        "print(\"La resta del primero menos el segundo valor es:\", valor1 - valor2)\n"
      ],
      "metadata": {
        "id": "ps3ZXlgDHpKx",
        "colab": {
          "base_uri": "https://localhost:8080/"
        },
        "outputId": "edafbe1a-9c5b-42e0-ac03-ae33aaaa5402"
      },
      "execution_count": 6,
      "outputs": [
        {
          "output_type": "stream",
          "name": "stdout",
          "text": [
            "Escribe un valor: 4\n",
            "Escribe otro valor: 5\n",
            "La resta del primero menos el segundo valor es: -1\n"
          ]
        }
      ]
    },
    {
      "cell_type": "code",
      "source": [
        "# Crea un programa que solicite dos valores numéricos al usuario y luego imprima la multiplicación de los dos valores.\n",
        "valor1 = int(input(\"Escribe un valor: \"))\n",
        "valor2 = int(input(\"Escribe otro valor: \"))\n",
        "print(\"La multiplicación de los dos valores es:\", valor1 * valor2)"
      ],
      "metadata": {
        "id": "xTMHH2wWH3CN",
        "colab": {
          "base_uri": "https://localhost:8080/"
        },
        "outputId": "a55e7930-4403-459c-fd9a-109ae817b629"
      },
      "execution_count": 7,
      "outputs": [
        {
          "output_type": "stream",
          "name": "stdout",
          "text": [
            "Escribe un valor: 4\n",
            "Escribe otro valor: 6\n",
            "La multiplicación de los dos valores es: 24\n"
          ]
        }
      ]
    },
    {
      "cell_type": "code",
      "source": [
        "# Crea un programa que solicite dos valores numéricos, un numerador y un denominador, y realice la división entre los dos valores. Asegúrate de que el valor del denominador no sea igual a 0.\n",
        "numerador = int(input(\"Escribe un numerador: \"))\n",
        "denominador = int(input(\"Escribe un denominador: \"))\n",
        "print(\"La división entre los dos valores es:\", numerador / denominador)"
      ],
      "metadata": {
        "id": "mnAjSXdWH_RU",
        "colab": {
          "base_uri": "https://localhost:8080/"
        },
        "outputId": "0afc77f1-c799-4421-d090-2226d3f344ee"
      },
      "execution_count": 8,
      "outputs": [
        {
          "output_type": "stream",
          "name": "stdout",
          "text": [
            "Escribe un numerador: 7\n",
            "Escribe un denominador: 5\n",
            "La división entre los dos valores es: 1.4\n"
          ]
        }
      ]
    },
    {
      "cell_type": "code",
      "source": [
        "#  Crea un programa que solicite dos valores numéricos, un operador y una potencia, y realice la exponenciación entre estos dos valores.\n",
        "valor1 = int(input(\"Escribe un valor: \"))\n",
        "valor2 = int(input(\"Escribe otro valor: \"))\n",
        "print(\"La exponenciación entre los dos valores es:\", valor1 ** valor2)\n"
      ],
      "metadata": {
        "id": "UjR96IxXIQ_0",
        "colab": {
          "base_uri": "https://localhost:8080/"
        },
        "outputId": "27937105-a701-48fb-fea1-94b5cf7e9d64"
      },
      "execution_count": 9,
      "outputs": [
        {
          "output_type": "stream",
          "name": "stdout",
          "text": [
            "Escribe un valor: 21\n",
            "Escribe otro valor: 20\n",
            "La exponenciación entre los dos valores es: 278218429446951548637196401\n"
          ]
        }
      ]
    },
    {
      "cell_type": "code",
      "source": [
        "#  Crea un programa que solicite dos valores numéricos, un numerador y un denominador, y realice la división entera entre los dos valores. Asegúrate de que el valor del denominador no sea igual a 0.\n",
        "numerador = int(input(\"Escribe un numerador: \"))\n",
        "denominador = int(input(\"Escribe un denominador: \"))\n",
        "print(\"La división entera entre los dos valores es:\", numerador // denominador)\n"
      ],
      "metadata": {
        "id": "YlsV6bm7Ic6d",
        "colab": {
          "base_uri": "https://localhost:8080/"
        },
        "outputId": "8c5a091f-82b2-4f6d-83cf-6d86c8c1559f"
      },
      "execution_count": 10,
      "outputs": [
        {
          "output_type": "stream",
          "name": "stdout",
          "text": [
            "Escribe un numerador: 6\n",
            "Escribe un denominador: 3\n",
            "La división entera entre los dos valores es: 2\n"
          ]
        }
      ]
    },
    {
      "cell_type": "code",
      "source": [
        "\n",
        "try:\n",
        "    # Solicitar los valores al usuario\n",
        "    numerador = float(input(\"Ingrese el numerador: \"))\n",
        "    denominador = float(input(\"Ingrese el denominador: \"))\n",
        "\n",
        "    # Verificar que el denominador no sea cero\n",
        "    if denominador == 0:\n",
        "        print(\"Error: No se puede dividir por cero\")\n",
        "    else:\n",
        "        # Calcular el resto\n",
        "        resto = numerador % denominador\n",
        "        # Mostrar el resultado\n",
        "        print(f\"El resto de la división entre {numerador} y {denominador} es: {resto}\")\n",
        "\n",
        "except ValueError:\n",
        "    print(\"Error: Por favor, ingrese números válidos\")"
      ],
      "metadata": {
        "colab": {
          "base_uri": "https://localhost:8080/"
        },
        "id": "wN5a3iqh4usL",
        "outputId": "9c407ed2-8f39-4e89-de2d-c2871525bc8f"
      },
      "execution_count": 17,
      "outputs": [
        {
          "output_type": "stream",
          "name": "stdout",
          "text": [
            "Ingrese el numerador: 22\n",
            "Ingrese el denominador: 2\n",
            "El resto de la división entre 22.0 y 2.0 es: 0.0\n"
          ]
        }
      ]
    },
    {
      "cell_type": "code",
      "source": [
        "#- Crea un código que solicite las 3 notas de un estudiante e imprima el promedio de las notas.\n",
        "# Solicitar las notas al estudiante\n",
        "nota1 = float(input(\"Ingrese la primera nota: \"))\n",
        "nota2 = float(input(\"Ingrese la segunda nota: \"))\n",
        "nota3 = float(input(\"Ingrese la tercera nota: \"))\n",
        "\n",
        "# Calcular el promedio\n",
        "promedio = (nota1 + nota2 + nota3) / 3\n",
        "\n",
        "# Imprimir el promedio\n",
        "print(f\"El promedio de las notas es: {promedio}\")"
      ],
      "metadata": {
        "id": "87xicEa7Kz58",
        "colab": {
          "base_uri": "https://localhost:8080/"
        },
        "outputId": "7f459434-93db-455f-8788-e130cbb188fc"
      },
      "execution_count": 18,
      "outputs": [
        {
          "output_type": "stream",
          "name": "stdout",
          "text": [
            "Ingrese la primera nota: 45\n",
            "Ingrese la segunda nota: 65\n",
            "Ingrese la tercera nota: 65\n",
            "El promedio de las notas es: 58.333333333333336\n"
          ]
        }
      ]
    },
    {
      "cell_type": "code",
      "source": [
        "# Crea un código que calcule e imprima el promedio ponderado de los números 5, 12, 20 y 15 con pesos respectivamente iguales a 1, 2, 3 y 4.\n",
        "\n",
        "# Definir números y pesos\n",
        "numeros = [5, 12, 20, 15]\n",
        "pesos = [1, 2, 3, 4]\n",
        "\n",
        "# Calcular suma de productos (número * peso)\n",
        "suma_productos = (5 * 1) + (12 * 2) + (20 * 3) + (15 * 4)\n",
        "\n",
        "# Calcular suma de pesos\n",
        "suma_pesos = 1 + 2 + 3 + 4\n",
        "\n",
        "# Calcular promedio ponderado\n",
        "promedio_ponderado = suma_productos / suma_pesos\n",
        "\n",
        "# Mostrar resultado\n",
        "print(f\"El promedio ponderado es: {promedio_ponderado}\")"
      ],
      "metadata": {
        "colab": {
          "base_uri": "https://localhost:8080/"
        },
        "id": "LS0aoJeD6KJs",
        "outputId": "3280f51e-262e-4141-8705-49f40c35040d"
      },
      "execution_count": 19,
      "outputs": [
        {
          "output_type": "stream",
          "name": "stdout",
          "text": [
            "El promedio ponderado es: 14.9\n"
          ]
        }
      ]
    },
    {
      "cell_type": "code",
      "source": [
        "# EDITANDO TEXTOS\n",
        "# 1-  Crea una variable llamada \"frase\" y asígnale una cadena de texto de tu elección. Luego, imprime la frase en pantalla\n",
        "# opcion a (con formato f-string)\n",
        "# Crear la variable frase\n",
        "frase = \"Hola, este es un ejemplo de cadena de texto\"\n",
        "\n",
        "# Imprimir la frase\n",
        "print(frase)"
      ],
      "metadata": {
        "colab": {
          "base_uri": "https://localhost:8080/"
        },
        "id": "UZf11UXW6sNg",
        "outputId": "29c18972-5f57-4edd-c927-207c6eea4fdc"
      },
      "execution_count": 20,
      "outputs": [
        {
          "output_type": "stream",
          "name": "stdout",
          "text": [
            "Hola, este es un ejemplo de cadena de texto\n"
          ]
        }
      ]
    },
    {
      "cell_type": "code",
      "source": [
        "# opcion b (modo sencillo)\n",
        "# Crear la variable frase\n",
        "frase = \"Hola, este es un ejemplo de cadena de texto\"\n",
        "\n",
        "# Imprimir la frase\n",
        "print(frase)\n"
      ],
      "metadata": {
        "colab": {
          "base_uri": "https://localhost:8080/"
        },
        "id": "7V14Eyv67U24",
        "outputId": "5d170fc7-a0ff-4001-b470-443d0beb42ea"
      },
      "execution_count": 21,
      "outputs": [
        {
          "output_type": "stream",
          "name": "stdout",
          "text": [
            "Hola, este es un ejemplo de cadena de texto\n"
          ]
        }
      ]
    },
    {
      "cell_type": "code",
      "source": [
        "#  2- Crea un código que solicite una frase y luego imprima la frase en pantalla.\n",
        "frase = input(\"Escribe una frase: \")\n",
        "print(frase)\n"
      ],
      "metadata": {
        "colab": {
          "base_uri": "https://localhost:8080/"
        },
        "id": "2SNgaZXl7rJT",
        "outputId": "496f901a-c5eb-442c-fe65-9721a9057a5e"
      },
      "execution_count": 22,
      "outputs": [
        {
          "output_type": "stream",
          "name": "stdout",
          "text": [
            "Escribe una frase: que hermoso dia\n",
            "que hermoso dia\n"
          ]
        }
      ]
    },
    {
      "cell_type": "code",
      "source": [
        "# 3- Crea un código que solicite una frase al usuario y luego imprima la misma frase ingresada pero en mayúsculas.\n",
        "frase = input(\"Escribe una frase: \")\n",
        "print(frase.upper())\n"
      ],
      "metadata": {
        "colab": {
          "base_uri": "https://localhost:8080/"
        },
        "id": "k_e-6NhM77L6",
        "outputId": "5c8e6d7a-4442-452c-d843-dcaa43de3e8b"
      },
      "execution_count": 23,
      "outputs": [
        {
          "output_type": "stream",
          "name": "stdout",
          "text": [
            "Escribe una frase: voy al parque\n",
            "VOY AL PARQUE\n"
          ]
        }
      ]
    },
    {
      "cell_type": "code",
      "source": [
        "# 4- Crea un código que solicite una frase al usuario y luego imprima la misma frase ingresada pero en minúsculas.\n",
        "frase = input(\"Escribe una frase: \")\n",
        "print(frase.lower())"
      ],
      "metadata": {
        "colab": {
          "base_uri": "https://localhost:8080/"
        },
        "id": "jkzARbGZ8J2L",
        "outputId": "082a453b-c8d6-424d-993c-d9d1661ace51"
      },
      "execution_count": 24,
      "outputs": [
        {
          "output_type": "stream",
          "name": "stdout",
          "text": [
            "Escribe una frase: ¿que hay de nuevo'\n",
            "¿que hay de nuevo'\n"
          ]
        }
      ]
    },
    {
      "cell_type": "code",
      "source": [
        "# 5- Crea una variable llamada \"frase\" y asígnale una cadena de texto de tu elección. Luego,\n",
        "# imprime la frase sin espacios en blanco al principio y al final.\n",
        "frase = \" Hola, este es un ejemplo de cadena de texto \"\n",
        "print(frase.strip())"
      ],
      "metadata": {
        "colab": {
          "base_uri": "https://localhost:8080/"
        },
        "id": "ePkF_M9f8eHb",
        "outputId": "c0c345ba-4874-4d69-9134-e3387abdfb1e"
      },
      "execution_count": 25,
      "outputs": [
        {
          "output_type": "stream",
          "name": "stdout",
          "text": [
            "Hola, este es un ejemplo de cadena de texto\n"
          ]
        }
      ]
    },
    {
      "cell_type": "code",
      "source": [
        "# 6- Crea un código que solicite una frase al usuario y luego imprima la misma frase sin espacios en blanco al principio y al final.\n",
        "frase = input(\"Escribe una frase: \")\n",
        "print(frase.strip())\n",
        "\n"
      ],
      "metadata": {
        "colab": {
          "base_uri": "https://localhost:8080/"
        },
        "id": "K3NNeFeA8p2b",
        "outputId": "b22430bf-772c-45b2-c8f5-17399b946853"
      },
      "execution_count": 27,
      "outputs": [
        {
          "output_type": "stream",
          "name": "stdout",
          "text": [
            "Escribe una frase: tengo mucho frio hoy\n",
            "tengo mucho frio hoy\n"
          ]
        }
      ]
    },
    {
      "cell_type": "code",
      "source": [
        "# 7- Crea un código que solicite una frase al usuario y luego imprima la misma frase sin espacios en blanco al principio y al final, además de convertirla a minúsculas.\n",
        "frase = input(\"Escribe una frase: \")\n",
        "print(frase.strip().lower())\n"
      ],
      "metadata": {
        "colab": {
          "base_uri": "https://localhost:8080/"
        },
        "id": "s4ufSRtI8_TX",
        "outputId": "a95dd2bf-e8e6-4b4b-dc78-7fff862793cd"
      },
      "execution_count": 28,
      "outputs": [
        {
          "output_type": "stream",
          "name": "stdout",
          "text": [
            "Escribe una frase: Mi prima se ira de vacaciones\n",
            "mi prima se ira de vacaciones\n"
          ]
        }
      ]
    },
    {
      "cell_type": "code",
      "source": [
        "# 8- Crea un código que solicite una frase al usuario y luego imprima la misma frase con todas las vocales \"e\" reemplazadas por la letra \"f\".\n",
        "frase = input(\"Escribe una frase: \")\n",
        "frase_modificada = frase.replace(\"e\", \"f\")\n",
        "print(frase_modificada)"
      ],
      "metadata": {
        "colab": {
          "base_uri": "https://localhost:8080/"
        },
        "id": "Rs4uZ3xw9Pnf",
        "outputId": "ecf18640-1808-4406-d5e9-b94805d7f58d"
      },
      "execution_count": 29,
      "outputs": [
        {
          "output_type": "stream",
          "name": "stdout",
          "text": [
            "Escribe una frase: la fiesta estuvo genial\n",
            "la fifsta fstuvo gfnial\n"
          ]
        }
      ]
    },
    {
      "cell_type": "code",
      "source": [
        "# 9- Crea un código que solicite una frase al usuario y luego imprima la misma frase con todas las vocales \"a\" reemplazadas por el carácter \"@\".\n",
        "frase = input(\"Escribe una frase: \")\n",
        "frase_modificada = frase.replace(\"a\", \"@\")\n",
        "print(frase_modificada)"
      ],
      "metadata": {
        "colab": {
          "base_uri": "https://localhost:8080/"
        },
        "id": "-jrJlaeH9bX-",
        "outputId": "46cd5a40-254e-45f4-ea12-c4fe4ed372e8"
      },
      "execution_count": 30,
      "outputs": [
        {
          "output_type": "stream",
          "name": "stdout",
          "text": [
            "Escribe una frase: mañana sera un gran dia\n",
            "m@ñ@n@ ser@ un gr@n di@\n"
          ]
        }
      ]
    },
    {
      "cell_type": "code",
      "source": [
        "# 10- Crea un código que solicite una frase al usuario y luego imprima la misma frase con todas las consonantes \"s\" reemplazadas por el carácter \"$\".\n",
        "frase = input(\"Escribe una frase: \")\n",
        "frase_modificada = frase.replace(\"s\", \"$\")\n",
        "print(frase_modificada)"
      ],
      "metadata": {
        "colab": {
          "base_uri": "https://localhost:8080/"
        },
        "id": "on0ixPlJ9lsG",
        "outputId": "07b26552-68a2-4d39-ae86-1a3ba97461ce"
      },
      "execution_count": 31,
      "outputs": [
        {
          "output_type": "stream",
          "name": "stdout",
          "text": [
            "Escribe una frase: mi perro está enfermo\n",
            "mi perro e$tá enfermo\n"
          ]
        }
      ]
    }
  ]
}